{
 "cells": [
  {
   "cell_type": "markdown",
   "metadata": {},
   "source": [
    "Exercise 1\n",
    "Create table orders_part with the same columns as orders.\n",
    "\n",
    "Partition the table by month using range partitioning on order_date.\n",
    "\n",
    "Add 14 partitions - 13 based up on the data and 1 default. Here is the naming convention.\n",
    "\n",
    "Default - orders_part_default\n",
    "\n",
    "Partition for 2014 January - orders_part_201401"
   ]
  },
  {
   "cell_type": "markdown",
   "metadata": {},
   "source": [
    "```sql\n",
    "CREATE TABLE orders_part (\n",
    "  order_id INT NOT NULL,\n",
    "  order_date TIMESTAMP NOT NULL,\n",
    "  order_customer_id INT NOT NULL,\n",
    "  order_status VARCHAR(45) NOT NULL,\n",
    "  PRIMARY KEY (order_date,order_id)\n",
    ") PARTITION BY RANGE(order_date);\n",
    "\n",
    "CREATE TABLE orders_part_default\n",
    "PARTITION OF orders_part DEFAULT;\n",
    "```"
   ]
  },
  {
   "cell_type": "code",
   "execution_count": 40,
   "metadata": {},
   "outputs": [],
   "source": [
    "import psycopg2\n",
    "from psycopg2.extensions import ISOLATION_LEVEL_AUTOCOMMIT\n",
    "import pandas\n",
    "\n",
    "connection = psycopg2.connect(\n",
    "    host=\"localhost\",\n",
    "    database=\"itversity_retail_db\",\n",
    "    user=\"itversity_retail_user\",\n",
    "    password=\"retail_password\"\n",
    ")\n",
    "\n",
    "connection.set_isolation_level(ISOLATION_LEVEL_AUTOCOMMIT)\n",
    "\n",
    "cursor = connection.cursor()\n",
    "\n",
    "dates_start = pandas.date_range('2013-07', periods=13, freq='MS')\n",
    "dates_end = pandas.date_range('2013-08', periods=13, freq='MS')\n",
    "\n",
    "zip_dates = zip(dates_start, dates_end)\n",
    "\n",
    "for date_start,date_end in zip_dates:\n",
    "    cursor.execute(f'''\n",
    "        CREATE TABLE orders_part_{date_start.strftime(\"%Y%m\")}\n",
    "        PARTITION OF orders_part\n",
    "        FOR VALUES FROM ('{date_start.strftime(\"%Y-%m-%d\")}') TO ('{date_end.strftime(\"%Y-%m-%d\")}')\n",
    "    ''')\n",
    "\n",
    "cursor.close()\n",
    "connection.close()"
   ]
  },
  {
   "cell_type": "markdown",
   "metadata": {},
   "source": [
    "Exercise 2¶\n",
    "Let us load and validate data in the partitioned table.\n",
    "\n",
    "Load the data from orders into orders_part.\n",
    "\n",
    "Get count on orders_part as well as all the 14 partitions. You should get 0 for default partition and all the records should be distributed using the other 13 partitions."
   ]
  },
  {
   "cell_type": "markdown",
   "metadata": {},
   "source": [
    "```sql\n",
    "INSERT INTO orders_part\n",
    "SELECT * FROM orders;\n",
    "\n",
    "SELECT count(*) FROM orders_part_default;\n",
    "\n",
    "SELECT count(*) FROM orders_part_201307;\n",
    "```"
   ]
  }
 ],
 "metadata": {
  "interpreter": {
   "hash": "916dbcbb3f70747c44a77c7bcd40155683ae19c65e1c03b4aa3499c5328201f1"
  },
  "kernelspec": {
   "display_name": "Python 3.8.10 64-bit",
   "language": "python",
   "name": "python3"
  },
  "language_info": {
   "name": "python",
   "version": "3.8.10"
  },
  "orig_nbformat": 4
 },
 "nbformat": 4,
 "nbformat_minor": 2
}
